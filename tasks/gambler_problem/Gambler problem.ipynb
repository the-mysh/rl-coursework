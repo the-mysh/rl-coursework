{
 "cells": [
  {
   "cell_type": "code",
   "id": "initial_id",
   "metadata": {
    "collapsed": true,
    "ExecuteTime": {
     "end_time": "2025-10-31T20:36:32.050077Z",
     "start_time": "2025-10-31T20:36:31.956542Z"
    }
   },
   "source": [
    "import numpy as np\n",
    "\n",
    "from utils import GamblerProblemModel"
   ],
   "outputs": [],
   "execution_count": 1
  },
  {
   "metadata": {
    "ExecuteTime": {
     "end_time": "2025-10-31T20:36:32.068903Z",
     "start_time": "2025-10-31T20:36:32.059502Z"
    }
   },
   "cell_type": "code",
   "source": [
    "p = GamblerProblemModel(goal=10, success_probability=0.4)\n",
    "p.n_states, p.n_nonterminal_states, p.n_actions"
   ],
   "id": "d419b36ad937173e",
   "outputs": [
    {
     "data": {
      "text/plain": [
       "(11, 9, 5)"
      ]
     },
     "execution_count": 2,
     "metadata": {},
     "output_type": "execute_result"
    }
   ],
   "execution_count": 2
  },
  {
   "metadata": {
    "ExecuteTime": {
     "end_time": "2025-10-31T20:36:32.088013Z",
     "start_time": "2025-10-31T20:36:32.080351Z"
    }
   },
   "cell_type": "code",
   "source": "p.immediate_rewards",
   "id": "944231a358e03e7b",
   "outputs": [
    {
     "data": {
      "text/plain": [
       "array([0., 0., 0., 0., 0., 0., 0., 0., 0., 0., 1.])"
      ]
     },
     "execution_count": 3,
     "metadata": {},
     "output_type": "execute_result"
    }
   ],
   "execution_count": 3
  },
  {
   "metadata": {
    "ExecuteTime": {
     "end_time": "2025-10-31T20:36:32.108332Z",
     "start_time": "2025-10-31T20:36:32.101380Z"
    }
   },
   "cell_type": "code",
   "source": [
    "tps = p.define_transition_probability_matrices()\n",
    "\n",
    "first = np.matvec(tps, p.immediate_rewards)\n",
    "np.argmax(first, axis=0)"
   ],
   "id": "67eee72752511acf",
   "outputs": [
    {
     "data": {
      "text/plain": [
       "array([0, 0, 0, 0, 0, 4, 3, 2, 1, 0, 0])"
      ]
     },
     "execution_count": 4,
     "metadata": {},
     "output_type": "execute_result"
    }
   ],
   "execution_count": 4
  },
  {
   "metadata": {
    "ExecuteTime": {
     "end_time": "2025-10-31T20:36:32.128451Z",
     "start_time": "2025-10-31T20:36:32.121437Z"
    }
   },
   "cell_type": "code",
   "source": "np.max(first, axis=0)",
   "id": "56e241da986f6984",
   "outputs": [
    {
     "data": {
      "text/plain": [
       "array([0. , 0. , 0. , 0. , 0. , 0.4, 0.4, 0.4, 0.4, 0.4, 0. ])"
      ]
     },
     "execution_count": 5,
     "metadata": {},
     "output_type": "execute_result"
    }
   ],
   "execution_count": 5
  },
  {
   "metadata": {
    "ExecuteTime": {
     "end_time": "2025-10-31T20:36:32.143580Z",
     "start_time": "2025-10-31T20:36:32.137226Z"
    }
   },
   "cell_type": "code",
   "source": "first",
   "id": "111d9ef9180f5f5a",
   "outputs": [
    {
     "data": {
      "text/plain": [
       "array([[0. , 0. , 0. , 0. , 0. , 0. , 0. , 0. , 0. , 0.4, 0. ],\n",
       "       [0. , 0. , 0. , 0. , 0. , 0. , 0. , 0. , 0.4, 0. , 0. ],\n",
       "       [0. , 0. , 0. , 0. , 0. , 0. , 0. , 0.4, 0. , 0. , 0. ],\n",
       "       [0. , 0. , 0. , 0. , 0. , 0. , 0.4, 0. , 0. , 0. , 0. ],\n",
       "       [0. , 0. , 0. , 0. , 0. , 0.4, 0. , 0. , 0. , 0. , 0. ]])"
      ]
     },
     "execution_count": 6,
     "metadata": {},
     "output_type": "execute_result"
    }
   ],
   "execution_count": 6
  },
  {
   "metadata": {
    "ExecuteTime": {
     "end_time": "2025-10-31T20:36:32.527614Z",
     "start_time": "2025-10-31T20:36:32.520490Z"
    }
   },
   "cell_type": "code",
   "source": [
    "v = np.zeros(11)\n",
    "for i in range(10):\n",
    "    comp = np.matvec(tps, v + p.immediate_rewards)\n",
    "    print(np.argmax(comp, axis=0))\n",
    "    v = np.max(comp, axis=0)\n",
    "    print(v)\n",
    "    print()"
   ],
   "id": "a400330a5fa691d6",
   "outputs": [
    {
     "name": "stdout",
     "output_type": "stream",
     "text": [
      "[0 0 0 0 0 4 3 2 1 0 0]\n",
      "[0.  0.  0.  0.  0.  0.4 0.4 0.4 0.4 0.4 0. ]\n",
      "\n",
      "[0 0 0 1 0 4 0 0 1 0 0]\n",
      "[0.   0.   0.   0.16 0.16 0.4  0.4  0.4  0.64 0.64 0.  ]\n",
      "\n",
      "[0 0 0 1 0 4 0 2 1 0 0]\n",
      "[0.    0.    0.064 0.16  0.256 0.4   0.4   0.496 0.64  0.784 0.   ]\n",
      "\n",
      "[0 0 1 1 0 4 0 1 1 0 0]\n",
      "[0.     0.0256 0.1024 0.16   0.256  0.4    0.4384 0.5536 0.64   0.784\n",
      " 0.    ]\n",
      "\n",
      "[0 0 1 1 0 4 0 1 1 0 0]\n",
      "[0.      0.04096 0.1024  0.17536 0.256   0.4     0.46144 0.5536  0.66304\n",
      " 0.784   0.     ]\n",
      "\n",
      "[0 0 1 1 0 4 0 1 1 0 0]\n",
      "[0.       0.04096  0.1024   0.184576 0.265216 0.4      0.46144  0.5536\n",
      " 0.676864 0.797824 0.      ]\n",
      "\n",
      "[0 0 1 1 3 4 0 1 1 0 0]\n",
      "[0.        0.04096   0.1060864 0.184576  0.2707456 0.4       0.46144\n",
      " 0.5591296 0.676864  0.8061184 0.       ]\n",
      "\n",
      "[0 0 1 1 3 4 0 1 1 0 0]\n",
      "[0.         0.04243456 0.10829824 0.184576   0.2707456  0.4\n",
      " 0.46365184 0.56244736 0.676864   0.8061184  0.        ]\n",
      "\n",
      "[0 0 1 1 3 4 0 1 1 0 0]\n",
      "[0.         0.0433193  0.10829824 0.18546074 0.2707456  0.4\n",
      " 0.46497894 0.56244736 0.6781911  0.8061184  0.        ]\n",
      "\n",
      "[0 0 1 1 0 4 0 1 1 0 0]\n",
      "[0.         0.0433193  0.10829824 0.18599158 0.27127644 0.4\n",
      " 0.46497894 0.56244736 0.67898737 0.80691466 0.        ]\n",
      "\n"
     ]
    }
   ],
   "execution_count": 7
  },
  {
   "metadata": {
    "ExecuteTime": {
     "end_time": "2025-10-31T20:36:32.635698Z",
     "start_time": "2025-10-31T20:36:32.632863Z"
    }
   },
   "cell_type": "code",
   "source": "",
   "id": "ded1db07d0c861b7",
   "outputs": [],
   "execution_count": null
  }
 ],
 "metadata": {
  "kernelspec": {
   "display_name": "Python 3",
   "language": "python",
   "name": "python3"
  },
  "language_info": {
   "codemirror_mode": {
    "name": "ipython",
    "version": 2
   },
   "file_extension": ".py",
   "mimetype": "text/x-python",
   "name": "python",
   "nbconvert_exporter": "python",
   "pygments_lexer": "ipython2",
   "version": "2.7.6"
  }
 },
 "nbformat": 4,
 "nbformat_minor": 5
}
