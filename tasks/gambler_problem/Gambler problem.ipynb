{
 "cells": [
  {
   "cell_type": "code",
   "id": "initial_id",
   "metadata": {
    "collapsed": true,
    "ExecuteTime": {
     "end_time": "2025-10-31T12:36:33.608947Z",
     "start_time": "2025-10-31T12:36:33.503955Z"
    }
   },
   "source": [
    "import numpy as np\n",
    "\n",
    "from utils import GamblerPolicy"
   ],
   "outputs": [],
   "execution_count": 1
  },
  {
   "metadata": {
    "ExecuteTime": {
     "end_time": "2025-10-31T12:36:33.626306Z",
     "start_time": "2025-10-31T12:36:33.617429Z"
    }
   },
   "cell_type": "code",
   "source": [
    "p = GamblerPolicy(goal=10, success_probability=0.4)\n",
    "p.n_states, p.n_nonterminal_states"
   ],
   "id": "d419b36ad937173e",
   "outputs": [
    {
     "data": {
      "text/plain": [
       "(11, 9)"
      ]
     },
     "execution_count": 2,
     "metadata": {},
     "output_type": "execute_result"
    }
   ],
   "execution_count": 2
  },
  {
   "metadata": {
    "ExecuteTime": {
     "end_time": "2025-10-31T12:36:33.642635Z",
     "start_time": "2025-10-31T12:36:33.636031Z"
    }
   },
   "cell_type": "code",
   "source": "p.policy_estimate",
   "id": "b2742eb83b4e050",
   "outputs": [
    {
     "data": {
      "text/plain": [
       "array([1, 1, 1, 1, 1, 1, 1, 1, 1])"
      ]
     },
     "execution_count": 3,
     "metadata": {},
     "output_type": "execute_result"
    }
   ],
   "execution_count": 3
  },
  {
   "metadata": {
    "ExecuteTime": {
     "end_time": "2025-10-31T12:36:33.670006Z",
     "start_time": "2025-10-31T12:36:33.662095Z"
    }
   },
   "cell_type": "code",
   "source": [
    "ptpm = p.define_ptpm()\n",
    "ptpm"
   ],
   "id": "8392f9efc9a643e4",
   "outputs": [
    {
     "data": {
      "text/plain": [
       "array([[0. , 0. , 0. , 0. , 0. , 0. , 0. , 0. , 0. , 0. , 0. ],\n",
       "       [0.6, 0. , 0.4, 0. , 0. , 0. , 0. , 0. , 0. , 0. , 0. ],\n",
       "       [0. , 0.6, 0. , 0.4, 0. , 0. , 0. , 0. , 0. , 0. , 0. ],\n",
       "       [0. , 0. , 0.6, 0. , 0.4, 0. , 0. , 0. , 0. , 0. , 0. ],\n",
       "       [0. , 0. , 0. , 0.6, 0. , 0.4, 0. , 0. , 0. , 0. , 0. ],\n",
       "       [0. , 0. , 0. , 0. , 0.6, 0. , 0.4, 0. , 0. , 0. , 0. ],\n",
       "       [0. , 0. , 0. , 0. , 0. , 0.6, 0. , 0.4, 0. , 0. , 0. ],\n",
       "       [0. , 0. , 0. , 0. , 0. , 0. , 0.6, 0. , 0.4, 0. , 0. ],\n",
       "       [0. , 0. , 0. , 0. , 0. , 0. , 0. , 0.6, 0. , 0.4, 0. ],\n",
       "       [0. , 0. , 0. , 0. , 0. , 0. , 0. , 0. , 0.6, 0. , 0.4],\n",
       "       [0. , 0. , 0. , 0. , 0. , 0. , 0. , 0. , 0. , 0. , 0. ]])"
      ]
     },
     "execution_count": 4,
     "metadata": {},
     "output_type": "execute_result"
    }
   ],
   "execution_count": 4
  },
  {
   "metadata": {
    "ExecuteTime": {
     "end_time": "2025-10-31T12:36:34.013055Z",
     "start_time": "2025-10-31T12:36:34.006786Z"
    }
   },
   "cell_type": "code",
   "source": [
    "immediate_rewards = p.immediate_rewards\n",
    "immediate_rewards"
   ],
   "id": "944231a358e03e7b",
   "outputs": [
    {
     "data": {
      "text/plain": [
       "array([0., 0., 0., 0., 0., 0., 0., 0., 0., 0., 1.])"
      ]
     },
     "execution_count": 5,
     "metadata": {},
     "output_type": "execute_result"
    }
   ],
   "execution_count": 5
  },
  {
   "metadata": {
    "ExecuteTime": {
     "end_time": "2025-10-31T12:36:34.145753Z",
     "start_time": "2025-10-31T12:36:34.140988Z"
    }
   },
   "cell_type": "code",
   "source": "DISCOUNT = 1",
   "id": "9d073c75fbbc2f60",
   "outputs": [],
   "execution_count": 6
  },
  {
   "metadata": {
    "ExecuteTime": {
     "end_time": "2025-10-31T12:37:20.105310Z",
     "start_time": "2025-10-31T12:37:20.097283Z"
    }
   },
   "cell_type": "code",
   "source": [
    "values_of_states = np.zeros(p.n_states)\n",
    "for i in range(10):\n",
    "    new_values_of_states = immediate_rewards + DISCOUNT * np.matmul(ptpm, values_of_states)\n",
    "    new_values_of_states = np.round(new_values_of_states, 4)\n",
    "    err = (np.abs(values_of_states - new_values_of_states)).sum()\n",
    "    print(new_values_of_states, err)\n",
    "    values_of_states = new_values_of_states"
   ],
   "id": "34dede554a578348",
   "outputs": [
    {
     "name": "stdout",
     "output_type": "stream",
     "text": [
      "[0. 0. 0. 0. 0. 0. 0. 0. 0. 0. 1.] 1.0\n",
      "[0.  0.  0.  0.  0.  0.  0.  0.  0.  0.4 1. ] 0.4\n",
      "[0.   0.   0.   0.   0.   0.   0.   0.   0.16 0.4  1.  ] 0.16\n",
      "[0.    0.    0.    0.    0.    0.    0.    0.064 0.16  0.496 1.   ] 0.15999999999999998\n",
      "[0.     0.     0.     0.     0.     0.     0.0256 0.064  0.2368 0.496\n",
      " 1.    ] 0.1024\n",
      "[0.     0.     0.     0.     0.     0.0102 0.0256 0.1101 0.2368 0.5421\n",
      " 1.    ] 0.10240000000000003\n",
      "[0.     0.     0.     0.     0.0041 0.0102 0.0502 0.1101 0.2829 0.5421\n",
      " 1.    ] 0.07479999999999998\n",
      "[0.     0.     0.     0.0016 0.0041 0.0225 0.0502 0.1433 0.2829 0.5697\n",
      " 1.    ] 0.07469999999999996\n",
      "[0.000e+00 0.000e+00 6.000e-04 1.600e-03 1.000e-02 2.250e-02 7.080e-02\n",
      " 1.433e-01 3.139e-01 5.697e-01 1.000e+00] 0.05810000000000003\n",
      "[0.000e+00 2.000e-04 6.000e-04 4.400e-03 1.000e-02 3.430e-02 7.080e-02\n",
      " 1.680e-01 3.139e-01 5.883e-01 1.000e+00] 0.05810000000000006\n"
     ]
    }
   ],
   "execution_count": 9
  },
  {
   "metadata": {
    "ExecuteTime": {
     "end_time": "2025-10-31T12:36:34.196391Z",
     "start_time": "2025-10-31T12:36:34.193234Z"
    }
   },
   "cell_type": "code",
   "source": "\n",
   "id": "fcf058ab64222f5d",
   "outputs": [],
   "execution_count": 7
  },
  {
   "metadata": {
    "ExecuteTime": {
     "end_time": "2025-10-31T12:36:34.226123Z",
     "start_time": "2025-10-31T12:36:34.222993Z"
    }
   },
   "cell_type": "code",
   "source": "",
   "id": "38b8992e6393ed0",
   "outputs": [],
   "execution_count": null
  }
 ],
 "metadata": {
  "kernelspec": {
   "display_name": "Python 3",
   "language": "python",
   "name": "python3"
  },
  "language_info": {
   "codemirror_mode": {
    "name": "ipython",
    "version": 2
   },
   "file_extension": ".py",
   "mimetype": "text/x-python",
   "name": "python",
   "nbconvert_exporter": "python",
   "pygments_lexer": "ipython2",
   "version": "2.7.6"
  }
 },
 "nbformat": 4,
 "nbformat_minor": 5
}
