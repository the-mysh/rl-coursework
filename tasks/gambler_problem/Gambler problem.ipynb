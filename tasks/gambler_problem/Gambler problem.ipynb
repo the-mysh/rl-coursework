{
 "cells": [
  {
   "cell_type": "code",
   "id": "initial_id",
   "metadata": {
    "collapsed": true,
    "ExecuteTime": {
     "end_time": "2025-10-31T13:29:58.244274Z",
     "start_time": "2025-10-31T13:29:58.154326Z"
    }
   },
   "source": [
    "import numpy as np\n",
    "\n",
    "from utils import GamblerProblemModel"
   ],
   "outputs": [],
   "execution_count": 1
  },
  {
   "metadata": {
    "ExecuteTime": {
     "end_time": "2025-10-31T13:29:58.266662Z",
     "start_time": "2025-10-31T13:29:58.257425Z"
    }
   },
   "cell_type": "code",
   "source": [
    "p = GamblerProblemModel(goal=10, success_probability=0.4)\n",
    "p.n_states, p.n_nonterminal_states"
   ],
   "id": "d419b36ad937173e",
   "outputs": [
    {
     "data": {
      "text/plain": [
       "(11, 9)"
      ]
     },
     "execution_count": 2,
     "metadata": {},
     "output_type": "execute_result"
    }
   ],
   "execution_count": 2
  },
  {
   "metadata": {
    "ExecuteTime": {
     "end_time": "2025-10-31T13:29:58.320767Z",
     "start_time": "2025-10-31T13:29:58.314219Z"
    }
   },
   "cell_type": "code",
   "source": [
    "policy = p.propose_policy_estimate()\n",
    "policy"
   ],
   "id": "b2742eb83b4e050",
   "outputs": [
    {
     "data": {
      "text/plain": [
       "array([1, 1, 1, 1, 1, 1, 1, 1, 1])"
      ]
     },
     "execution_count": 3,
     "metadata": {},
     "output_type": "execute_result"
    }
   ],
   "execution_count": 3
  },
  {
   "metadata": {
    "ExecuteTime": {
     "end_time": "2025-10-31T13:29:58.385606Z",
     "start_time": "2025-10-31T13:29:58.378534Z"
    }
   },
   "cell_type": "code",
   "source": [
    "ptpm = p.define_ptpm(policy)\n",
    "ptpm"
   ],
   "id": "8392f9efc9a643e4",
   "outputs": [
    {
     "data": {
      "text/plain": [
       "array([[0. , 0. , 0. , 0. , 0. , 0. , 0. , 0. , 0. , 0. , 0. ],\n",
       "       [0.6, 0. , 0.4, 0. , 0. , 0. , 0. , 0. , 0. , 0. , 0. ],\n",
       "       [0. , 0.6, 0. , 0.4, 0. , 0. , 0. , 0. , 0. , 0. , 0. ],\n",
       "       [0. , 0. , 0.6, 0. , 0.4, 0. , 0. , 0. , 0. , 0. , 0. ],\n",
       "       [0. , 0. , 0. , 0.6, 0. , 0.4, 0. , 0. , 0. , 0. , 0. ],\n",
       "       [0. , 0. , 0. , 0. , 0.6, 0. , 0.4, 0. , 0. , 0. , 0. ],\n",
       "       [0. , 0. , 0. , 0. , 0. , 0.6, 0. , 0.4, 0. , 0. , 0. ],\n",
       "       [0. , 0. , 0. , 0. , 0. , 0. , 0.6, 0. , 0.4, 0. , 0. ],\n",
       "       [0. , 0. , 0. , 0. , 0. , 0. , 0. , 0.6, 0. , 0.4, 0. ],\n",
       "       [0. , 0. , 0. , 0. , 0. , 0. , 0. , 0. , 0.6, 0. , 0.4],\n",
       "       [0. , 0. , 0. , 0. , 0. , 0. , 0. , 0. , 0. , 0. , 0. ]])"
      ]
     },
     "execution_count": 4,
     "metadata": {},
     "output_type": "execute_result"
    }
   ],
   "execution_count": 4
  },
  {
   "metadata": {
    "ExecuteTime": {
     "end_time": "2025-10-31T13:29:58.724351Z",
     "start_time": "2025-10-31T13:29:58.718100Z"
    }
   },
   "cell_type": "code",
   "source": [
    "immediate_rewards = p.immediate_rewards\n",
    "immediate_rewards"
   ],
   "id": "944231a358e03e7b",
   "outputs": [
    {
     "data": {
      "text/plain": [
       "array([0., 0., 0., 0., 0., 0., 0., 0., 0., 0., 1.])"
      ]
     },
     "execution_count": 5,
     "metadata": {},
     "output_type": "execute_result"
    }
   ],
   "execution_count": 5
  },
  {
   "metadata": {
    "ExecuteTime": {
     "end_time": "2025-10-31T13:29:58.895937Z",
     "start_time": "2025-10-31T13:29:58.891661Z"
    }
   },
   "cell_type": "code",
   "source": "DISCOUNT = 1",
   "id": "9d073c75fbbc2f60",
   "outputs": [],
   "execution_count": 6
  },
  {
   "metadata": {
    "ExecuteTime": {
     "end_time": "2025-10-31T13:29:58.985288Z",
     "start_time": "2025-10-31T13:29:58.978013Z"
    }
   },
   "cell_type": "code",
   "source": [
    "values_of_states = np.zeros(p.n_states)\n",
    "for i in range(10):\n",
    "    new_values_of_states = immediate_rewards + DISCOUNT * np.matmul(ptpm, values_of_states)\n",
    "    new_values_of_states = np.round(new_values_of_states, 4)\n",
    "    err = (np.abs(values_of_states - new_values_of_states)).sum()\n",
    "    print(new_values_of_states, err)\n",
    "    values_of_states = new_values_of_states"
   ],
   "id": "34dede554a578348",
   "outputs": [
    {
     "name": "stdout",
     "output_type": "stream",
     "text": [
      "[0. 0. 0. 0. 0. 0. 0. 0. 0. 0. 1.] 1.0\n",
      "[0.  0.  0.  0.  0.  0.  0.  0.  0.  0.4 1. ] 0.4\n",
      "[0.   0.   0.   0.   0.   0.   0.   0.   0.16 0.4  1.  ] 0.16\n",
      "[0.    0.    0.    0.    0.    0.    0.    0.064 0.16  0.496 1.   ] 0.15999999999999998\n",
      "[0.     0.     0.     0.     0.     0.     0.0256 0.064  0.2368 0.496\n",
      " 1.    ] 0.1024\n",
      "[0.     0.     0.     0.     0.     0.0102 0.0256 0.1101 0.2368 0.5421\n",
      " 1.    ] 0.10240000000000003\n",
      "[0.     0.     0.     0.     0.0041 0.0102 0.0502 0.1101 0.2829 0.5421\n",
      " 1.    ] 0.07479999999999998\n",
      "[0.     0.     0.     0.0016 0.0041 0.0225 0.0502 0.1433 0.2829 0.5697\n",
      " 1.    ] 0.07469999999999996\n",
      "[0.000e+00 0.000e+00 6.000e-04 1.600e-03 1.000e-02 2.250e-02 7.080e-02\n",
      " 1.433e-01 3.139e-01 5.697e-01 1.000e+00] 0.05810000000000003\n",
      "[0.000e+00 2.000e-04 6.000e-04 4.400e-03 1.000e-02 3.430e-02 7.080e-02\n",
      " 1.680e-01 3.139e-01 5.883e-01 1.000e+00] 0.05810000000000006\n"
     ]
    }
   ],
   "execution_count": 7
  },
  {
   "metadata": {
    "ExecuteTime": {
     "end_time": "2025-10-31T19:37:31.623597Z",
     "start_time": "2025-10-31T19:37:31.596996Z"
    }
   },
   "cell_type": "code",
   "source": [
    "a = np.arange(12).reshape(3, 4)\n",
    "a"
   ],
   "id": "6a43e292305d531e",
   "outputs": [
    {
     "data": {
      "text/plain": [
       "array([[ 0,  1,  2,  3],\n",
       "       [ 4,  5,  6,  7],\n",
       "       [ 8,  9, 10, 11]])"
      ]
     },
     "execution_count": 9,
     "metadata": {},
     "output_type": "execute_result"
    }
   ],
   "execution_count": 9
  },
  {
   "metadata": {
    "ExecuteTime": {
     "end_time": "2025-10-31T19:37:50.023474Z",
     "start_time": "2025-10-31T19:37:50.018423Z"
    }
   },
   "cell_type": "code",
   "source": "b = np.arange(4)",
   "id": "b7695fda7dc34030",
   "outputs": [],
   "execution_count": 10
  },
  {
   "metadata": {
    "ExecuteTime": {
     "end_time": "2025-10-31T19:37:55.527675Z",
     "start_time": "2025-10-31T19:37:55.510834Z"
    }
   },
   "cell_type": "code",
   "source": "np.matmul(a, b)",
   "id": "16f8b5d2460627cb",
   "outputs": [
    {
     "data": {
      "text/plain": [
       "array([14, 38, 62])"
      ]
     },
     "execution_count": 11,
     "metadata": {},
     "output_type": "execute_result"
    }
   ],
   "execution_count": 11
  },
  {
   "metadata": {
    "ExecuteTime": {
     "end_time": "2025-10-31T19:38:09.217713Z",
     "start_time": "2025-10-31T19:38:09.211930Z"
    }
   },
   "cell_type": "code",
   "source": "np.matvec(a, b)",
   "id": "afdd28aeb656bc52",
   "outputs": [
    {
     "data": {
      "text/plain": [
       "array([14, 38, 62])"
      ]
     },
     "execution_count": 12,
     "metadata": {},
     "output_type": "execute_result"
    }
   ],
   "execution_count": 12
  },
  {
   "metadata": {
    "ExecuteTime": {
     "end_time": "2025-10-31T19:38:42.651665Z",
     "start_time": "2025-10-31T19:38:42.644267Z"
    }
   },
   "cell_type": "code",
   "source": [
    "aa = np.stack([a, a])\n",
    "print(aa.shape)\n",
    "aa"
   ],
   "id": "95eb5da6e04f536b",
   "outputs": [
    {
     "name": "stdout",
     "output_type": "stream",
     "text": [
      "(2, 3, 4)\n"
     ]
    },
    {
     "data": {
      "text/plain": [
       "array([[[ 0,  1,  2,  3],\n",
       "        [ 4,  5,  6,  7],\n",
       "        [ 8,  9, 10, 11]],\n",
       "\n",
       "       [[ 0,  1,  2,  3],\n",
       "        [ 4,  5,  6,  7],\n",
       "        [ 8,  9, 10, 11]]])"
      ]
     },
     "execution_count": 15,
     "metadata": {},
     "output_type": "execute_result"
    }
   ],
   "execution_count": 15
  },
  {
   "metadata": {
    "ExecuteTime": {
     "end_time": "2025-10-31T19:39:15.267730Z",
     "start_time": "2025-10-31T19:39:15.260550Z"
    }
   },
   "cell_type": "code",
   "source": [
    "r = np.matvec(aa, b)\n",
    "print(r.shape)\n",
    "r"
   ],
   "id": "1487652bb25b0a3f",
   "outputs": [
    {
     "name": "stdout",
     "output_type": "stream",
     "text": [
      "(2, 3)\n"
     ]
    },
    {
     "data": {
      "text/plain": [
       "array([[14, 38, 62],\n",
       "       [14, 38, 62]])"
      ]
     },
     "execution_count": 17,
     "metadata": {},
     "output_type": "execute_result"
    }
   ],
   "execution_count": 17
  },
  {
   "metadata": {},
   "cell_type": "code",
   "outputs": [],
   "execution_count": null,
   "source": "",
   "id": "81a15c7b1c9d9333"
  },
  {
   "metadata": {
    "ExecuteTime": {
     "end_time": "2025-10-31T20:22:15.573726Z",
     "start_time": "2025-10-31T20:22:15.566621Z"
    }
   },
   "cell_type": "code",
   "source": [
    "def define_transition_probability_matrices(n_actions, n_states, p_success):\n",
    "    p_failure = 1 - p_success\n",
    "    transition_probs = np.zeros((n_actions, n_states, n_states))\n",
    "    for action_idx in range(n_actions):\n",
    "        action_value = action_idx + 1\n",
    "        for state in range(n_states):\n",
    "            if state - action_value < 0 or state + action_value >= n_states:\n",
    "                continue\n",
    "            transition_probs[action_idx, state, state - action_value] = p_failure\n",
    "            transition_probs[action_idx, state, state + action_value] = p_success\n",
    "    return transition_probs"
   ],
   "id": "17b1e73e9f4790f2",
   "outputs": [],
   "execution_count": 67
  },
  {
   "metadata": {
    "ExecuteTime": {
     "end_time": "2025-10-31T20:22:15.847240Z",
     "start_time": "2025-10-31T20:22:15.838577Z"
    }
   },
   "cell_type": "code",
   "source": [
    "tps100 = define_transition_probability_matrices(50, 101, 0.4)\n",
    "tps100[49].sum(axis=1)"
   ],
   "id": "5a4140388d271dbe",
   "outputs": [
    {
     "data": {
      "text/plain": [
       "array([0., 0., 0., 0., 0., 0., 0., 0., 0., 0., 0., 0., 0., 0., 0., 0., 0.,\n",
       "       0., 0., 0., 0., 0., 0., 0., 0., 0., 0., 0., 0., 0., 0., 0., 0., 0.,\n",
       "       0., 0., 0., 0., 0., 0., 0., 0., 0., 0., 0., 0., 0., 0., 0., 0., 1.,\n",
       "       0., 0., 0., 0., 0., 0., 0., 0., 0., 0., 0., 0., 0., 0., 0., 0., 0.,\n",
       "       0., 0., 0., 0., 0., 0., 0., 0., 0., 0., 0., 0., 0., 0., 0., 0., 0.,\n",
       "       0., 0., 0., 0., 0., 0., 0., 0., 0., 0., 0., 0., 0., 0., 0., 0.])"
      ]
     },
     "execution_count": 68,
     "metadata": {},
     "output_type": "execute_result"
    }
   ],
   "execution_count": 68
  },
  {
   "metadata": {
    "ExecuteTime": {
     "end_time": "2025-10-31T20:24:44.702730Z",
     "start_time": "2025-10-31T20:24:44.697192Z"
    }
   },
   "cell_type": "code",
   "source": [
    "tps = define_transition_probability_matrices(5, 11, 0.4)\n",
    "\n",
    "\n",
    "first = np.matvec(tps, immediate_rewards)\n",
    "np.argmax(first, axis=0)"
   ],
   "id": "67eee72752511acf",
   "outputs": [
    {
     "data": {
      "text/plain": [
       "array([0, 0, 0, 0, 0, 4, 3, 2, 1, 0, 0])"
      ]
     },
     "execution_count": 72,
     "metadata": {},
     "output_type": "execute_result"
    }
   ],
   "execution_count": 72
  },
  {
   "metadata": {
    "ExecuteTime": {
     "end_time": "2025-10-31T20:24:55.085476Z",
     "start_time": "2025-10-31T20:24:55.068465Z"
    }
   },
   "cell_type": "code",
   "source": "np.max(first, axis=0)",
   "id": "56e241da986f6984",
   "outputs": [
    {
     "data": {
      "text/plain": [
       "array([0. , 0. , 0. , 0. , 0. , 0.4, 0.4, 0.4, 0.4, 0.4, 0. ])"
      ]
     },
     "execution_count": 73,
     "metadata": {},
     "output_type": "execute_result"
    }
   ],
   "execution_count": 73
  },
  {
   "metadata": {
    "ExecuteTime": {
     "end_time": "2025-10-31T20:25:08.671105Z",
     "start_time": "2025-10-31T20:25:08.665465Z"
    }
   },
   "cell_type": "code",
   "source": "first",
   "id": "111d9ef9180f5f5a",
   "outputs": [
    {
     "data": {
      "text/plain": [
       "array([[0. , 0. , 0. , 0. , 0. , 0. , 0. , 0. , 0. , 0.4, 0. ],\n",
       "       [0. , 0. , 0. , 0. , 0. , 0. , 0. , 0. , 0.4, 0. , 0. ],\n",
       "       [0. , 0. , 0. , 0. , 0. , 0. , 0. , 0.4, 0. , 0. , 0. ],\n",
       "       [0. , 0. , 0. , 0. , 0. , 0. , 0.4, 0. , 0. , 0. , 0. ],\n",
       "       [0. , 0. , 0. , 0. , 0. , 0.4, 0. , 0. , 0. , 0. , 0. ]])"
      ]
     },
     "execution_count": 74,
     "metadata": {},
     "output_type": "execute_result"
    }
   ],
   "execution_count": 74
  },
  {
   "metadata": {
    "ExecuteTime": {
     "end_time": "2025-10-31T20:28:28.947115Z",
     "start_time": "2025-10-31T20:28:28.938426Z"
    }
   },
   "cell_type": "code",
   "source": [
    "v = np.zeros(11)\n",
    "for i in range(10):\n",
    "    comp = np.matvec(tps, v+immediate_rewards)\n",
    "    print(np.argmax(comp, axis=0))\n",
    "    v = np.max(comp, axis=0)\n",
    "    print(v)\n",
    "    print()"
   ],
   "id": "a400330a5fa691d6",
   "outputs": [
    {
     "name": "stdout",
     "output_type": "stream",
     "text": [
      "[0 0 0 0 0 4 3 2 1 0 0]\n",
      "[0.  0.  0.  0.  0.  0.4 0.4 0.4 0.4 0.4 0. ]\n",
      "\n",
      "[0 0 0 1 0 4 0 0 1 0 0]\n",
      "[0.   0.   0.   0.16 0.16 0.4  0.4  0.4  0.64 0.64 0.  ]\n",
      "\n",
      "[0 0 0 1 0 4 0 2 1 0 0]\n",
      "[0.    0.    0.064 0.16  0.256 0.4   0.4   0.496 0.64  0.784 0.   ]\n",
      "\n",
      "[0 0 1 1 0 4 0 1 1 0 0]\n",
      "[0.     0.0256 0.1024 0.16   0.256  0.4    0.4384 0.5536 0.64   0.784\n",
      " 0.    ]\n",
      "\n",
      "[0 0 1 1 0 4 0 1 1 0 0]\n",
      "[0.      0.04096 0.1024  0.17536 0.256   0.4     0.46144 0.5536  0.66304\n",
      " 0.784   0.     ]\n",
      "\n",
      "[0 0 1 1 0 4 0 1 1 0 0]\n",
      "[0.       0.04096  0.1024   0.184576 0.265216 0.4      0.46144  0.5536\n",
      " 0.676864 0.797824 0.      ]\n",
      "\n",
      "[0 0 1 1 3 4 0 1 1 0 0]\n",
      "[0.        0.04096   0.1060864 0.184576  0.2707456 0.4       0.46144\n",
      " 0.5591296 0.676864  0.8061184 0.       ]\n",
      "\n",
      "[0 0 1 1 3 4 0 1 1 0 0]\n",
      "[0.         0.04243456 0.10829824 0.184576   0.2707456  0.4\n",
      " 0.46365184 0.56244736 0.676864   0.8061184  0.        ]\n",
      "\n",
      "[0 0 1 1 3 4 0 1 1 0 0]\n",
      "[0.         0.0433193  0.10829824 0.18546074 0.2707456  0.4\n",
      " 0.46497894 0.56244736 0.6781911  0.8061184  0.        ]\n",
      "\n",
      "[0 0 1 1 0 4 0 1 1 0 0]\n",
      "[0.         0.0433193  0.10829824 0.18599158 0.27127644 0.4\n",
      " 0.46497894 0.56244736 0.67898737 0.80691466 0.        ]\n",
      "\n"
     ]
    }
   ],
   "execution_count": 76
  },
  {
   "metadata": {},
   "cell_type": "code",
   "outputs": [],
   "execution_count": null,
   "source": "",
   "id": "ded1db07d0c861b7"
  }
 ],
 "metadata": {
  "kernelspec": {
   "display_name": "Python 3",
   "language": "python",
   "name": "python3"
  },
  "language_info": {
   "codemirror_mode": {
    "name": "ipython",
    "version": 2
   },
   "file_extension": ".py",
   "mimetype": "text/x-python",
   "name": "python",
   "nbconvert_exporter": "python",
   "pygments_lexer": "ipython2",
   "version": "2.7.6"
  }
 },
 "nbformat": 4,
 "nbformat_minor": 5
}
