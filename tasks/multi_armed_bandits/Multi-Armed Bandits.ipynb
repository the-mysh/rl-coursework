{
 "cells": [
  {
   "cell_type": "code",
   "id": "initial_id",
   "metadata": {
    "collapsed": true,
    "ExecuteTime": {
     "end_time": "2025-10-30T13:52:06.786279Z",
     "start_time": "2025-10-30T13:52:06.681726Z"
    }
   },
   "source": [
    "from tqdm import tqdm\n",
    "from policy_runner import define_actions, define_policies, run_policies"
   ],
   "outputs": [],
   "execution_count": 1
  },
  {
   "metadata": {
    "ExecuteTime": {
     "end_time": "2025-10-30T13:52:06.802235Z",
     "start_time": "2025-10-30T13:52:06.796541Z"
    }
   },
   "cell_type": "code",
   "source": [
    "actions = define_actions(10)\n",
    "\n",
    "for action in actions:\n",
    "    print(f\"Action {action.name}: average reward = {action.average_reward}\")"
   ],
   "id": "85a21ffcd6830988",
   "outputs": [
    {
     "name": "stdout",
     "output_type": "stream",
     "text": [
      "Action 1: average reward = -0.8246290980842722\n",
      "Action 2: average reward = 0.05829931281674468\n",
      "Action 3: average reward = 0.6714221006379814\n",
      "Action 4: average reward = 1.4674283567887711\n",
      "Action 5: average reward = -0.46471333069325255\n",
      "Action 6: average reward = 1.5422979165557853\n",
      "Action 7: average reward = 0.07705684669936105\n",
      "Action 8: average reward = 0.7688427013058875\n",
      "Action 9: average reward = 0.4454144643432098\n",
      "Action 10: average reward = -0.3309629960184729\n"
     ]
    }
   ],
   "execution_count": 2
  },
  {
   "metadata": {
    "ExecuteTime": {
     "end_time": "2025-10-30T13:52:06.833747Z",
     "start_time": "2025-10-30T13:52:06.824618Z"
    }
   },
   "cell_type": "code",
   "source": [
    "policies = define_policies(actions)\n",
    "run_policies(policies, 10)"
   ],
   "id": "168c988fb64339a0",
   "outputs": [
    {
     "data": {
      "text/plain": [
       "{'greedy r0=0': array([-1.62230873,  1.21539858,  1.99618509, -0.17049605,  1.1174701 ,\n",
       "         2.06365366,  2.33802895,  1.44425521,  2.98309321,  2.80024628]),\n",
       " 'greedy r0=5': array([ 0.24053874,  0.02470864, -2.1919816 ,  0.43080762,  0.58001329,\n",
       "         1.20174476,  0.04073835, -0.55389134, -1.90768472,  2.34165803]),\n",
       " 'epsilon-greedy e=0.1': array([-0.91808467,  0.82190484,  0.14143602, -1.33330446, -0.81160758,\n",
       "        -2.59825354,  2.32017695,  0.86487914,  0.50484143,  1.10902374]),\n",
       " 'epsilon-greedy e=0.01': array([-1.0765461 , -1.38589339, -1.11142738,  0.51548247,  1.26114489,\n",
       "         1.09705574,  0.33641845,  0.75211196,  1.37470761, -0.69822058]),\n",
       " 'UCB': array([ 1.7013753 ,  0.72131586,  0.36554263,  0.89185455,  0.87208124,\n",
       "        -0.21725371,  3.8495936 ,  0.66501154,  0.0910431 ,  1.60246714])}"
      ]
     },
     "execution_count": 3,
     "metadata": {},
     "output_type": "execute_result"
    }
   ],
   "execution_count": 3
  },
  {
   "metadata": {
    "ExecuteTime": {
     "end_time": "2025-10-30T13:52:06.863739Z",
     "start_time": "2025-10-30T13:52:06.858798Z"
    }
   },
   "cell_type": "code",
   "source": [
    "def average_runs(prev, new, idx):\n",
    "    if prev is None:\n",
    "        return new\n",
    "\n",
    "    assert set(prev.keys()) == set(new.keys())\n",
    "    for name, old_res in prev.items():\n",
    "        prev[name] = old_res + (new[name] - old_res) / idx\n",
    "\n",
    "    return prev\n"
   ],
   "id": "e6c19b2382c21941",
   "outputs": [],
   "execution_count": 4
  },
  {
   "metadata": {
    "ExecuteTime": {
     "end_time": "2025-10-30T13:52:07.253895Z",
     "start_time": "2025-10-30T13:52:06.874292Z"
    }
   },
   "cell_type": "code",
   "source": [
    "combined_results = None\n",
    "\n",
    "for i in tqdm(range(100), desc=\"Evaluation iteration\"):\n",
    "    actions = define_actions(10)\n",
    "    policies = define_policies(actions)\n",
    "    new_results = run_policies(policies, 200)\n",
    "    combined_results = average_runs(combined_results, new_results, i)\n"
   ],
   "id": "2a0e9162753ebbdd",
   "outputs": [
    {
     "name": "stderr",
     "output_type": "stream",
     "text": [
      "Evaluation iteration: 100%|██████████| 100/100 [00:00<00:00, 273.54it/s]\n"
     ]
    }
   ],
   "execution_count": 5
  },
  {
   "metadata": {
    "ExecuteTime": {
     "end_time": "2025-10-30T13:52:07.265450Z",
     "start_time": "2025-10-30T13:52:07.262729Z"
    }
   },
   "cell_type": "code",
   "source": "",
   "id": "105f9d53b72c3b05",
   "outputs": [],
   "execution_count": null
  }
 ],
 "metadata": {
  "kernelspec": {
   "display_name": "Python 3",
   "language": "python",
   "name": "python3"
  },
  "language_info": {
   "codemirror_mode": {
    "name": "ipython",
    "version": 2
   },
   "file_extension": ".py",
   "mimetype": "text/x-python",
   "name": "python",
   "nbconvert_exporter": "python",
   "pygments_lexer": "ipython2",
   "version": "2.7.6"
  }
 },
 "nbformat": 4,
 "nbformat_minor": 5
}
