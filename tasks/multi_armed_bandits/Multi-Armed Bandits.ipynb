{
 "cells": [
  {
   "cell_type": "code",
   "id": "initial_id",
   "metadata": {
    "collapsed": true,
    "ExecuteTime": {
     "end_time": "2025-10-30T13:02:04.228306Z",
     "start_time": "2025-10-30T13:02:04.218736Z"
    }
   },
   "source": "from policy_runner import main",
   "outputs": [],
   "execution_count": 2
  },
  {
   "metadata": {
    "ExecuteTime": {
     "end_time": "2025-10-30T13:02:09.453986Z",
     "start_time": "2025-10-30T13:02:09.447634Z"
    }
   },
   "cell_type": "code",
   "source": "main()",
   "id": "85a21ffcd6830988",
   "outputs": [
    {
     "name": "stdout",
     "output_type": "stream",
     "text": [
      "Iteration 0:\n",
      "\tgreedy r0=0:             action 3\n",
      "\tgreedy r0=5:             action 2\n",
      "\tepsilon-greedy e=0.1:    action 5\n",
      "\tepsilon-greedy e=0.01:   action 7\n",
      "\tUCB:                     action 3\n",
      "Iteration 1:\n",
      "\tgreedy r0=0:             action 0\n",
      "\tgreedy r0=5:             action 6\n",
      "\tepsilon-greedy e=0.1:    action 1\n",
      "\tepsilon-greedy e=0.01:   action 5\n",
      "\tUCB:                     action 9\n",
      "Iteration 2:\n",
      "\tgreedy r0=0:             action 4\n",
      "\tgreedy r0=5:             action 4\n",
      "\tepsilon-greedy e=0.1:    action 5\n",
      "\tepsilon-greedy e=0.01:   action 8\n",
      "\tUCB:                     action 9\n",
      "Iteration 3:\n",
      "\tgreedy r0=0:             action 8\n",
      "\tgreedy r0=5:             action 4\n",
      "\tepsilon-greedy e=0.1:    action 3\n",
      "\tepsilon-greedy e=0.01:   action 8\n",
      "\tUCB:                     action 2\n",
      "Iteration 4:\n",
      "\tgreedy r0=0:             action 3\n",
      "\tgreedy r0=5:             action 5\n",
      "\tepsilon-greedy e=0.1:    action 3\n",
      "\tepsilon-greedy e=0.01:   action 8\n",
      "\tUCB:                     action 4\n",
      "Iteration 5:\n",
      "\tgreedy r0=0:             action 3\n",
      "\tgreedy r0=5:             action 0\n",
      "\tepsilon-greedy e=0.1:    action 9\n",
      "\tepsilon-greedy e=0.01:   action 2\n",
      "\tUCB:                     action 8\n",
      "Iteration 6:\n",
      "\tgreedy r0=0:             action 3\n",
      "\tgreedy r0=5:             action 0\n",
      "\tepsilon-greedy e=0.1:    action 6\n",
      "\tepsilon-greedy e=0.01:   action 9\n",
      "\tUCB:                     action 7\n",
      "Iteration 7:\n",
      "\tgreedy r0=0:             action 4\n",
      "\tgreedy r0=5:             action 8\n",
      "\tepsilon-greedy e=0.1:    action 5\n",
      "\tepsilon-greedy e=0.01:   action 2\n",
      "\tUCB:                     action 7\n",
      "Iteration 8:\n",
      "\tgreedy r0=0:             action 0\n",
      "\tgreedy r0=5:             action 6\n",
      "\tepsilon-greedy e=0.1:    action 3\n",
      "\tepsilon-greedy e=0.01:   action 1\n",
      "\tUCB:                     action 3\n",
      "Iteration 9:\n",
      "\tgreedy r0=0:             action 3\n",
      "\tgreedy r0=5:             action 8\n",
      "\tepsilon-greedy e=0.1:    action 4\n",
      "\tepsilon-greedy e=0.01:   action 2\n",
      "\tUCB:                     action 4\n"
     ]
    }
   ],
   "execution_count": 3
  },
  {
   "metadata": {},
   "cell_type": "code",
   "outputs": [],
   "execution_count": null,
   "source": "",
   "id": "168c988fb64339a0"
  }
 ],
 "metadata": {
  "kernelspec": {
   "display_name": "Python 3",
   "language": "python",
   "name": "python3"
  },
  "language_info": {
   "codemirror_mode": {
    "name": "ipython",
    "version": 2
   },
   "file_extension": ".py",
   "mimetype": "text/x-python",
   "name": "python",
   "nbconvert_exporter": "python",
   "pygments_lexer": "ipython2",
   "version": "2.7.6"
  }
 },
 "nbformat": 4,
 "nbformat_minor": 5
}
