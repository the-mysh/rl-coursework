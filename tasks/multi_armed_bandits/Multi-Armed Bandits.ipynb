{
 "cells": [
  {
   "cell_type": "code",
   "id": "initial_id",
   "metadata": {
    "collapsed": true,
    "ExecuteTime": {
     "end_time": "2025-10-30T13:40:27.677143Z",
     "start_time": "2025-10-30T13:40:27.565546Z"
    }
   },
   "source": "from policy_runner import define_actions, define_policies, run_policies",
   "outputs": [],
   "execution_count": 1
  },
  {
   "metadata": {
    "ExecuteTime": {
     "end_time": "2025-10-30T13:40:27.696162Z",
     "start_time": "2025-10-30T13:40:27.690339Z"
    }
   },
   "cell_type": "code",
   "source": [
    "actions = define_actions(10)\n",
    "\n",
    "for action in actions:\n",
    "    print(f\"Action {action.name}: average reward = {action.average_reward}\")"
   ],
   "id": "85a21ffcd6830988",
   "outputs": [
    {
     "name": "stdout",
     "output_type": "stream",
     "text": [
      "Action 0: average reward = 0.26427929593271277\n",
      "Action 1: average reward = 0.05246610876949568\n",
      "Action 2: average reward = 0.5851659837337048\n",
      "Action 3: average reward = 0.39927351681525514\n",
      "Action 4: average reward = 0.6148380637421785\n",
      "Action 5: average reward = -0.18607621879853176\n",
      "Action 6: average reward = 0.13740074091011215\n",
      "Action 7: average reward = -2.781130179866691\n",
      "Action 8: average reward = -0.6017884728616238\n",
      "Action 9: average reward = -0.5230423465590505\n"
     ]
    }
   ],
   "execution_count": 2
  },
  {
   "metadata": {
    "ExecuteTime": {
     "end_time": "2025-10-30T13:40:28.261497Z",
     "start_time": "2025-10-30T13:40:28.252795Z"
    }
   },
   "cell_type": "code",
   "source": [
    "policies = define_policies(actions)\n",
    "run_policies(policies, 10)"
   ],
   "id": "168c988fb64339a0",
   "outputs": [
    {
     "data": {
      "text/plain": [
       "{'greedy r0=0': array([ 1.61693489,  0.81261502, -0.19321149,  0.2431557 ,  0.90971001,\n",
       "         1.92579799,  0.71081259,  1.7154661 ,  0.10470046,  2.18893156]),\n",
       " 'greedy r0=5': array([ 1.18747876, -1.40186599,  0.93783895, -0.88007418, -1.01403881,\n",
       "        -0.0036757 ,  1.41051601,  1.16840432,  1.15751613,  1.51635202]),\n",
       " 'epsilon-greedy e=0.1': array([-0.43779286, -0.03039096, -0.37883461, -0.21043132,  0.85571185,\n",
       "         1.38761113,  1.50107297,  1.39889699,  0.12680502,  0.90757346]),\n",
       " 'epsilon-greedy e=0.01': array([ 0.45846963, -0.2128818 , -0.65218692, -1.99297623,  0.89484928,\n",
       "         1.24934875,  0.77066721,  1.96798742,  0.33089814,  1.0099374 ]),\n",
       " 'UCB': array([ 1.35266774, -2.44050156,  2.32226351,  0.26945701, -1.85273132,\n",
       "         0.02536195, -1.06935939,  0.30859201, -1.10822146, -0.32096723])}"
      ]
     },
     "execution_count": 3,
     "metadata": {},
     "output_type": "execute_result"
    }
   ],
   "execution_count": 3
  },
  {
   "metadata": {
    "ExecuteTime": {
     "end_time": "2025-10-30T13:39:06.782812Z",
     "start_time": "2025-10-30T13:39:06.779912Z"
    }
   },
   "cell_type": "code",
   "source": "",
   "id": "e6c19b2382c21941",
   "outputs": [],
   "execution_count": null
  }
 ],
 "metadata": {
  "kernelspec": {
   "display_name": "Python 3",
   "language": "python",
   "name": "python3"
  },
  "language_info": {
   "codemirror_mode": {
    "name": "ipython",
    "version": 2
   },
   "file_extension": ".py",
   "mimetype": "text/x-python",
   "name": "python",
   "nbconvert_exporter": "python",
   "pygments_lexer": "ipython2",
   "version": "2.7.6"
  }
 },
 "nbformat": 4,
 "nbformat_minor": 5
}
